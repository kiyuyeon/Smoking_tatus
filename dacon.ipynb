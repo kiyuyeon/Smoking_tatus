{
 "cells": [
  {
   "cell_type": "code",
   "execution_count": 1,
   "metadata": {},
   "outputs": [],
   "source": [
    "import pandas as pd\n",
    "import seaborn as sns\n",
    "import random\n",
    "import matplotlib.pyplot as plt\n",
    "import os\n",
    "import warnings\n",
    "import numpy as np\n",
    "warnings.filterwarnings('ignore')\n",
    "\n",
    "\n",
    "from sklearn.model_selection import train_test_split,cross_val_score,StratifiedKFold\n",
    "from matplotlib import pyplot\n",
    "from sklearn.preprocessing import StandardScaler\n",
    "import pandas as pd\n",
    "import matplotlib.pyplot as plt\n",
    "\n",
    "\n",
    "from matplotlib import font_manager, rc\n",
    "font_path = \"C:/Windows/Fonts/malgun.ttf\"\n",
    "font = font_manager.FontProperties(fname=font_path).get_name()\n",
    "rc('font', family=font)"
   ]
  },
  {
   "cell_type": "code",
   "execution_count": 2,
   "metadata": {},
   "outputs": [],
   "source": [
    "# test 데이터를 분석에 활용하는 것은 Data Leakage에 해당하므로 train 데이터만 사용합니다.\n",
    "train = pd.read_csv('./train.csv')"
   ]
  },
  {
   "cell_type": "code",
   "execution_count": 3,
   "metadata": {},
   "outputs": [],
   "source": [
    "# train.info()"
   ]
  },
  {
   "cell_type": "code",
   "execution_count": 4,
   "metadata": {},
   "outputs": [],
   "source": [
    "# # 데이터프레임이 train이라면 다음과 같이 사용\n",
    "# sns.countplot(x='label', data=train)\n",
    "\n",
    "# plt.title('Smoking Distribution')\n",
    "# plt.xlabel('Smoking Status')\n",
    "# plt.ylabel('Count')\n",
    "# plt.xticks(ticks=[0,1], labels=['Non-Smoker', 'Smoker'])\n",
    "# plt.show()"
   ]
  },
  {
   "cell_type": "code",
   "execution_count": 5,
   "metadata": {},
   "outputs": [],
   "source": [
    "# #-*- coding: euc-kr -*-\n",
    "# except_target = train.drop('label', axis = 1)\n",
    "# except_target.hist(figsize = (12,12))\n",
    "# plt.show()"
   ]
  },
  {
   "cell_type": "code",
   "execution_count": 6,
   "metadata": {},
   "outputs": [],
   "source": [
    "\n",
    "\n",
    "# import matplotlib.pyplot as plt\n",
    "# plt.scatter(X, Y, alpha=0.5)\n",
    "# plt.title('TARGET ~ BMI')\n",
    "# plt.xlabel('BMI')\n",
    "# plt.ylabel('TARGET')\n",
    "# plt.show()"
   ]
  },
  {
   "cell_type": "code",
   "execution_count": 7,
   "metadata": {},
   "outputs": [],
   "source": [
    "def seed_everything(seed):\n",
    "    random.seed(seed)\n",
    "    os.environ['PYTHONHASHSEED'] = str(seed)\n",
    "    np.random.seed(seed)\n",
    "\n",
    "seed_everything(42) # Seed 고정"
   ]
  },
  {
   "cell_type": "code",
   "execution_count": 8,
   "metadata": {},
   "outputs": [],
   "source": [
    "# pd.read_csv() 함수를 사용해서 데이터를 읽어오는 코드입니다.\n",
    "train = pd.read_csv('train.csv')\n",
    "test = pd.read_csv('test.csv')"
   ]
  },
  {
   "cell_type": "code",
   "execution_count": 9,
   "metadata": {},
   "outputs": [],
   "source": [
    "X_train = train.drop(['ID','label','충치','시력','혈압','콜레스테롤','요 단백','공복 혈당'], axis = 1)\n",
    "y_train = train['label']\n",
    "\n",
    "X_test = test.drop(['ID','충치','시력','혈압','콜레스테롤','요 단백','공복 혈당'], axis = 1)\n"
   ]
  },
  {
   "cell_type": "code",
   "execution_count": 10,
   "metadata": {},
   "outputs": [],
   "source": [
    "# X_train = train.drop(['ID'], axis = 1)\n",
    "# corr=X_train.corr()\n",
    "# corr"
   ]
  },
  {
   "cell_type": "code",
   "execution_count": 11,
   "metadata": {},
   "outputs": [],
   "source": [
    "# sns.set(style=\"white\")\n",
    "\n",
    "# corr = X_train.corr()\n",
    "\n",
    "# f, ax = plt.subplots(figsize=(12, 12))\n",
    "# sns.heatmap(corr, center=0.5, square=True,\n",
    "#             linewidths=0.5, cbar_kws={\"shrink\": 0.75}, annot=True)\n",
    "\n",
    "# plt.title('흡연여부확인', size=30)\n",
    "# ax.set_xticklabels(list(X_train.columns), size=15, rotation=90)\n",
    "# ax.set_yticklabels(list(X_train.columns), size=15, rotation=0);"
   ]
  },
  {
   "cell_type": "code",
   "execution_count": 12,
   "metadata": {},
   "outputs": [
    {
     "data": {
      "text/html": [
       "<div>\n",
       "<style scoped>\n",
       "    .dataframe tbody tr th:only-of-type {\n",
       "        vertical-align: middle;\n",
       "    }\n",
       "\n",
       "    .dataframe tbody tr th {\n",
       "        vertical-align: top;\n",
       "    }\n",
       "\n",
       "    .dataframe thead th {\n",
       "        text-align: right;\n",
       "    }\n",
       "</style>\n",
       "<table border=\"1\" class=\"dataframe\">\n",
       "  <thead>\n",
       "    <tr style=\"text-align: right;\">\n",
       "      <th></th>\n",
       "      <th>나이</th>\n",
       "      <th>키(cm)</th>\n",
       "      <th>몸무게(kg)</th>\n",
       "      <th>BMI</th>\n",
       "      <th>중성 지방</th>\n",
       "      <th>혈청 크레아티닌</th>\n",
       "      <th>고밀도지단백</th>\n",
       "      <th>저밀도지단백</th>\n",
       "      <th>헤모글로빈</th>\n",
       "      <th>간 효소율</th>\n",
       "    </tr>\n",
       "  </thead>\n",
       "  <tbody>\n",
       "    <tr>\n",
       "      <th>0</th>\n",
       "      <td>-0.743896</td>\n",
       "      <td>0.569119</td>\n",
       "      <td>0.313393</td>\n",
       "      <td>0.021583</td>\n",
       "      <td>-0.637839</td>\n",
       "      <td>1.718802</td>\n",
       "      <td>1.216371</td>\n",
       "      <td>0.111359</td>\n",
       "      <td>0.823006</td>\n",
       "      <td>0.890457</td>\n",
       "    </tr>\n",
       "    <tr>\n",
       "      <th>1</th>\n",
       "      <td>-0.329403</td>\n",
       "      <td>-1.612011</td>\n",
       "      <td>-0.842429</td>\n",
       "      <td>0.084410</td>\n",
       "      <td>-0.313134</td>\n",
       "      <td>-1.179684</td>\n",
       "      <td>-0.782814</td>\n",
       "      <td>1.643003</td>\n",
       "      <td>-1.837954</td>\n",
       "      <td>0.705573</td>\n",
       "    </tr>\n",
       "    <tr>\n",
       "      <th>2</th>\n",
       "      <td>1.328568</td>\n",
       "      <td>0.569119</td>\n",
       "      <td>-1.227703</td>\n",
       "      <td>-1.954603</td>\n",
       "      <td>-0.894897</td>\n",
       "      <td>-0.351545</td>\n",
       "      <td>-0.989626</td>\n",
       "      <td>-0.630531</td>\n",
       "      <td>0.433597</td>\n",
       "      <td>-0.241957</td>\n",
       "    </tr>\n",
       "    <tr>\n",
       "      <th>3</th>\n",
       "      <td>-0.329403</td>\n",
       "      <td>-1.612011</td>\n",
       "      <td>-1.612977</td>\n",
       "      <td>-1.183548</td>\n",
       "      <td>-1.097838</td>\n",
       "      <td>-0.765614</td>\n",
       "      <td>0.595935</td>\n",
       "      <td>-0.127961</td>\n",
       "      <td>-0.799530</td>\n",
       "      <td>0.081590</td>\n",
       "    </tr>\n",
       "    <tr>\n",
       "      <th>4</th>\n",
       "      <td>0.914075</td>\n",
       "      <td>-1.066728</td>\n",
       "      <td>-0.071881</td>\n",
       "      <td>0.832619</td>\n",
       "      <td>-0.434898</td>\n",
       "      <td>0.062524</td>\n",
       "      <td>0.320185</td>\n",
       "      <td>0.853249</td>\n",
       "      <td>-0.539925</td>\n",
       "      <td>0.405137</td>\n",
       "    </tr>\n",
       "  </tbody>\n",
       "</table>\n",
       "</div>"
      ],
      "text/plain": [
       "         나이     키(cm)   몸무게(kg)       BMI     중성 지방  혈청 크레아티닌    고밀도지단백  \\\n",
       "0 -0.743896  0.569119  0.313393  0.021583 -0.637839  1.718802  1.216371   \n",
       "1 -0.329403 -1.612011 -0.842429  0.084410 -0.313134 -1.179684 -0.782814   \n",
       "2  1.328568  0.569119 -1.227703 -1.954603 -0.894897 -0.351545 -0.989626   \n",
       "3 -0.329403 -1.612011 -1.612977 -1.183548 -1.097838 -0.765614  0.595935   \n",
       "4  0.914075 -1.066728 -0.071881  0.832619 -0.434898  0.062524  0.320185   \n",
       "\n",
       "     저밀도지단백     헤모글로빈     간 효소율  \n",
       "0  0.111359  0.823006  0.890457  \n",
       "1  1.643003 -1.837954  0.705573  \n",
       "2 -0.630531  0.433597 -0.241957  \n",
       "3 -0.127961 -0.799530  0.081590  \n",
       "4  0.853249 -0.539925  0.405137  "
      ]
     },
     "execution_count": 12,
     "metadata": {},
     "output_type": "execute_result"
    }
   ],
   "source": [
    "ss = StandardScaler()\n",
    "scaled_X = pd.DataFrame(ss.fit_transform(X_train),columns=X_train.columns)\n",
    "scaled_X.head()\n",
    "     "
   ]
  },
  {
   "cell_type": "code",
   "execution_count": 13,
   "metadata": {},
   "outputs": [
    {
     "data": {
      "text/html": [
       "<div>\n",
       "<style scoped>\n",
       "    .dataframe tbody tr th:only-of-type {\n",
       "        vertical-align: middle;\n",
       "    }\n",
       "\n",
       "    .dataframe tbody tr th {\n",
       "        vertical-align: top;\n",
       "    }\n",
       "\n",
       "    .dataframe thead th {\n",
       "        text-align: right;\n",
       "    }\n",
       "</style>\n",
       "<table border=\"1\" class=\"dataframe\">\n",
       "  <thead>\n",
       "    <tr style=\"text-align: right;\">\n",
       "      <th></th>\n",
       "      <th>나이</th>\n",
       "      <th>키(cm)</th>\n",
       "      <th>몸무게(kg)</th>\n",
       "      <th>BMI</th>\n",
       "      <th>중성 지방</th>\n",
       "      <th>혈청 크레아티닌</th>\n",
       "      <th>고밀도지단백</th>\n",
       "      <th>저밀도지단백</th>\n",
       "      <th>헤모글로빈</th>\n",
       "      <th>간 효소율</th>\n",
       "    </tr>\n",
       "  </thead>\n",
       "  <tbody>\n",
       "    <tr>\n",
       "      <th>0</th>\n",
       "      <td>-0.372382</td>\n",
       "      <td>0.069539</td>\n",
       "      <td>-0.835591</td>\n",
       "      <td>-1.143675</td>\n",
       "      <td>-0.734061</td>\n",
       "      <td>-1.785419</td>\n",
       "      <td>0.097545</td>\n",
       "      <td>1.090302</td>\n",
       "      <td>-0.580429</td>\n",
       "      <td>1.104100</td>\n",
       "    </tr>\n",
       "    <tr>\n",
       "      <th>1</th>\n",
       "      <td>1.655841</td>\n",
       "      <td>-2.126423</td>\n",
       "      <td>-1.235651</td>\n",
       "      <td>-0.094886</td>\n",
       "      <td>-0.412360</td>\n",
       "      <td>-1.326914</td>\n",
       "      <td>0.503135</td>\n",
       "      <td>0.005181</td>\n",
       "      <td>-1.532333</td>\n",
       "      <td>-0.289532</td>\n",
       "    </tr>\n",
       "    <tr>\n",
       "      <th>2</th>\n",
       "      <td>-0.372382</td>\n",
       "      <td>-0.479452</td>\n",
       "      <td>0.764647</td>\n",
       "      <td>1.522241</td>\n",
       "      <td>1.461897</td>\n",
       "      <td>-1.326914</td>\n",
       "      <td>-0.510841</td>\n",
       "      <td>-1.134195</td>\n",
       "      <td>0.308015</td>\n",
       "      <td>0.340466</td>\n",
       "    </tr>\n",
       "    <tr>\n",
       "      <th>3</th>\n",
       "      <td>-1.183670</td>\n",
       "      <td>1.716510</td>\n",
       "      <td>1.964826</td>\n",
       "      <td>1.076945</td>\n",
       "      <td>1.266079</td>\n",
       "      <td>0.048602</td>\n",
       "      <td>-0.172849</td>\n",
       "      <td>-0.455995</td>\n",
       "      <td>0.371475</td>\n",
       "      <td>-0.499531</td>\n",
       "    </tr>\n",
       "    <tr>\n",
       "      <th>4</th>\n",
       "      <td>0.438907</td>\n",
       "      <td>-1.028442</td>\n",
       "      <td>-0.835591</td>\n",
       "      <td>-0.355619</td>\n",
       "      <td>0.161107</td>\n",
       "      <td>0.507107</td>\n",
       "      <td>0.570733</td>\n",
       "      <td>0.574870</td>\n",
       "      <td>0.244555</td>\n",
       "      <td>-0.575895</td>\n",
       "    </tr>\n",
       "  </tbody>\n",
       "</table>\n",
       "</div>"
      ],
      "text/plain": [
       "         나이     키(cm)   몸무게(kg)       BMI     중성 지방  혈청 크레아티닌    고밀도지단백  \\\n",
       "0 -0.372382  0.069539 -0.835591 -1.143675 -0.734061 -1.785419  0.097545   \n",
       "1  1.655841 -2.126423 -1.235651 -0.094886 -0.412360 -1.326914  0.503135   \n",
       "2 -0.372382 -0.479452  0.764647  1.522241  1.461897 -1.326914 -0.510841   \n",
       "3 -1.183670  1.716510  1.964826  1.076945  1.266079  0.048602 -0.172849   \n",
       "4  0.438907 -1.028442 -0.835591 -0.355619  0.161107  0.507107  0.570733   \n",
       "\n",
       "     저밀도지단백     헤모글로빈     간 효소율  \n",
       "0  1.090302 -0.580429  1.104100  \n",
       "1  0.005181 -1.532333 -0.289532  \n",
       "2 -1.134195  0.308015  0.340466  \n",
       "3 -0.455995  0.371475 -0.499531  \n",
       "4  0.574870  0.244555 -0.575895  "
      ]
     },
     "execution_count": 13,
     "metadata": {},
     "output_type": "execute_result"
    }
   ],
   "source": [
    "ss = StandardScaler()\n",
    "scaled_X = pd.DataFrame(ss.fit_transform(X_test),columns=X_test.columns)\n",
    "scaled_X.head()\n"
   ]
  },
  {
   "cell_type": "code",
   "execution_count": 14,
   "metadata": {},
   "outputs": [],
   "source": [
    "# from sklearn.tree import DecisionTreeClassifier\n",
    "\n",
    "# classifier = DecisionTreeClassifier()\n",
    "# classifier.fit(X_train,y_train)\n",
    "# y_pred = classifier.predict(X_test)\n",
    "# skf = StratifiedKFold(n_splits=10,shuffle=True)\n",
    "# accuracies = cross_val_score(estimator=classifier,X=X_train,y=y_train,cv=skf)\n",
    "# print(\"Accuracy : {:.2f} %\".format(accuracies.mean()*100))\n",
    "# print(\"Standard Deviation : {:.2f} %\".format(accuracies.std()*100))"
   ]
  },
  {
   "cell_type": "code",
   "execution_count": 15,
   "metadata": {},
   "outputs": [
    {
     "name": "stdout",
     "output_type": "stream",
     "text": [
      "Accuracy : 73.27 %\n",
      "Standard Deviation : 1.60 %\n"
     ]
    }
   ],
   "source": [
    "from sklearn.ensemble import RandomForestClassifier\n",
    "\n",
    "classifier = RandomForestClassifier()\n",
    "classifier.fit(X_train,y_train)\n",
    "\n",
    "y_pred = classifier.predict(X_test)\n",
    "skf= StratifiedKFold(n_splits= 10,shuffle = True)\n",
    "accuracies = cross_val_score(estimator=classifier,X=X_train,y=y_train,cv=skf)\n",
    "\n",
    "print(\"Accuracy : {:.2f} %\".format(accuracies.mean()*100))\n",
    "print(\"Standard Deviation : {:.2f} %\".format(accuracies.std()*100))"
   ]
  },
  {
   "cell_type": "code",
   "execution_count": 16,
   "metadata": {},
   "outputs": [],
   "source": [
    "# from sklearn.naive_bayes import GaussianNB\n",
    "\n",
    "# classifier = GaussianNB()\n",
    "# classifier.fit(X_train,y_train)\n",
    "\n",
    "# y_pred = classifier.predict(X_test)\n",
    "# skf= StratifiedKFold(n_splits= 10,shuffle = True)\n",
    "# accuracies = cross_val_score(estimator=classifier,X=X_train,y=y_train,cv=skf)\n",
    "\n",
    "# print(\"Accuracy : {:.2f} %\".format(accuracies.mean()*100))\n",
    "# print(\"Standard Deviation : {:.2f} %\".format(accuracies.std()*100))"
   ]
  },
  {
   "cell_type": "code",
   "execution_count": 17,
   "metadata": {},
   "outputs": [],
   "source": [
    "\n",
    "# from sklearn.neighbors import KNeighborsClassifier\n",
    "\n",
    "# classifier = KNeighborsClassifier()\n",
    "# classifier.fit(X_train,y_train)\n",
    "\n",
    "# y_pred = classifier.predict(X_test)\n",
    "# skf= StratifiedKFold(n_splits= 10,shuffle = True)\n",
    "# accuracies = cross_val_score(estimator=classifier,X=X_train,y=y_train,cv=skf)\n",
    "\n",
    "# print(\"Accuracy : {:.2f} %\".format(accuracies.mean()*100))\n",
    "# print(\"Standard Deviation : {:.2f} %\".format(accuracies.std()*100))"
   ]
  },
  {
   "cell_type": "code",
   "execution_count": 18,
   "metadata": {},
   "outputs": [],
   "source": [
    "\n",
    "# from sklearn.ensemble import AdaBoostClassifier\n",
    "# classifier =AdaBoostClassifier()\n",
    "# classifier.fit(X_train,y_train)\n",
    "\n",
    "# y_pred = classifier.predict(X_test)\n",
    "# skf = StratifiedKFold(n_splits = 10 , shuffle = True)\n",
    "# accuracies = cross_val_score(estimator=classifier,X=X_train,y=y_train,cv=skf)\n",
    "# print(\"Accuracy : {:.2f} %\".format(accuracies.mean()*100))\n",
    "# print(\"Standard Deviation : {:.2f} %\".format(accuracies.std()*100))"
   ]
  },
  {
   "cell_type": "code",
   "execution_count": 19,
   "metadata": {},
   "outputs": [],
   "source": [
    "# from sklearn.discriminant_analysis import QuadraticDiscriminantAnalysis\n",
    "\n",
    "# classifier = QuadraticDiscriminantAnalysis()\n",
    "# classifier.fit(X_train,y_train)\n",
    "# y_pred = classifier.predict(X_test)\n",
    "# skf = StratifiedKFold(n_splits = 10,shuffle = True)\n",
    "# accuracies = cross_val_score(estimator=classifier,X=X_train,y=y_train,cv=skf)\n",
    "\n",
    "# print(\"Accuracy : {:.2f} %\".format(accuracies.mean()*100))\n",
    "# print(\"Standard Deviation : {:.2f} %\".format(accuracies.std()*100))"
   ]
  },
  {
   "cell_type": "code",
   "execution_count": 20,
   "metadata": {},
   "outputs": [],
   "source": [
    "# from sklearn.svm import SVC\n",
    "\n",
    "# classifier = SVC(kernel='linear')\n",
    "# classifier.fit(X_train,y_train)\n",
    "\n",
    "# y_pred = classifier.predict(X_test)\n",
    "# skf = StratifiedKFold(n_splits = 10,shuffle = True)\n",
    "# accuracies = cross_val_score(estimator=classifier,X=X_train,y=y_train,cv=skf)\n",
    "\n",
    "# print(\"Accuracy : {:.2f} %\".format(accuracies.mean()*100))\n",
    "# print(\"Standard Deviation : {:.2f} %\".format(accuracies.std()*100))\n",
    "     "
   ]
  },
  {
   "cell_type": "code",
   "execution_count": 21,
   "metadata": {},
   "outputs": [],
   "source": [
    "# from sklearn.ensemble import VotingClassifier\n",
    "# from sklearn.model_selection import KFold, cross_val_score\n",
    "# from sklearn.ensemble import AdaBoostClassifier\n",
    "# from sklearn.ensemble import RandomForestClassifier\n",
    "# from sklearn.preprocessing import PolynomialFeatures\n",
    "# poly = PolynomialFeatures(include_bias=False)  # 다항 특성 생성 객체 생성\n",
    "\n",
    "\n",
    "# # 다양한 분류기를 조합한 앙상블 분류기 생성\n",
    "# clf = VotingClassifier(estimators=[\n",
    "#     ('1', AdaBoostClassifier()),  # AdaBoost 분류기\n",
    "#     ('2', RandomForestClassifier()),  # 랜덤 포레스트 분류기\n",
    "#     ('3', SVC(kernel='linear'))  # 선형 커널을 사용한 서포트 벡터 머신 분류기\n",
    "# ])\n",
    "\n",
    "\n",
    "# # 다항 특성 생성기에 훈련 데이터를 적용하여 다항 특성 생성\n",
    "# poly.fit(X_train)\n",
    "# train_poly = poly.transform(X_train)  # 훈련 데이터를 다항 특성으로 변환\n",
    "\n",
    "\n",
    "# # 앙상블 분류기에 다항 특성으로 변환된 훈련 데이터와 해당 타겟 값을 학습시킴\n",
    "# clf.fit(train_poly, y_train)\n",
    "# print(\"Training accuracy:\", clf.score(train_poly, y_train))  # 훈련 데이터에 대한 정확도 출력\n",
    "\n",
    "\n",
    "# # 테스트 데이터에도 동일하게 다항 특성 생성 적용\n",
    "# test_poly = poly.transform(X_test)  # 테스트 데이터를 다항 특성으로 변환\n",
    "# print(\"Test accuracy:\", clf.score(X_test))  # 테스트 데이터에 대한 정확도 출력\n",
    "\n",
    "\n",
    "\n"
   ]
  },
  {
   "cell_type": "code",
   "execution_count": 22,
   "metadata": {},
   "outputs": [],
   "source": [
    "\n",
    "# from sklearn.svm import SVC\n",
    "\n",
    "# classifier = SVC(kernel = 'rbf')\n",
    "# classifier.fit(X_train,y_train)\n",
    "\n",
    "# y_pred = classifier.predict(X_test)\n",
    "# skf = StratifiedKFold(n_splits = 10,shuffle = True)\n",
    "# accuracies = cross_val_score(estimator=classifier,X=X_train,y=y_train,cv=skf)\n",
    "\n",
    "# print(\"Accuracy : {:.2f} %\".format(accuracies.mean()*100))\n",
    "# print(\"Standard Deviation : {:.2f} %\".format(accuracies.std()*100))"
   ]
  },
  {
   "cell_type": "code",
   "execution_count": 23,
   "metadata": {},
   "outputs": [],
   "source": [
    "# from sklearn.ensemble import VotingClassifier\n",
    "# from sklearn.ensemble import AdaBoostClassifier\n",
    "# from sklearn.ensemble import RandomForestClassifier\n",
    "# from sklearn.svm import SVC\n",
    "\n",
    "# clf1 = AdaBoostClassifier()\n",
    "# clf2 = RandomForestClassifier()\n",
    "# clf3 = SVC(kernel = 'linear')\n",
    "# classifier = VotingClassifier(estimators=[('ada',clf1),('rf',clf2),('rbf',clf3)])\n",
    "# classifier.fit(X_train,y_train)\n",
    "\n",
    "# skf = StratifiedKFold(n_splits=10,shuffle=True)\n",
    "\n",
    "# accuracies = cross_val_score(estimator=classifier,X = X_train, y = y_train,cv=skf)\n",
    "\n",
    "# print(\"Accuracy : {:.2f} %\".format(accuracies.mean()*100))\n",
    "# print(\"Standard Deviation : {:.2f} %\".format(accuracies.std()*100))"
   ]
  },
  {
   "cell_type": "code",
   "execution_count": 32,
   "metadata": {},
   "outputs": [
    {
     "name": "stdout",
     "output_type": "stream",
     "text": [
      "Accuracy: 82.74 %\n",
      "Standard Deviation: 1.08 %\n"
     ]
    }
   ],
   "source": [
    "# from sklearn.ensemble import BaggingClassifier\n",
    "# import warnings\n",
    "# warnings.filterwarnings(\"ignore\")\n",
    "\n",
    "# classifier = BaggingClassifier(base_estimator=RandomForestClassifier(),n_estimators=15)\n",
    "# classifier.fit(X_train,y_train)\n",
    "# y_pred = classifier.predict(X_test)\n",
    "\n",
    "# skf = StratifiedKFold(n_splits=10,shuffle=True)\n",
    "# accuracies = cross_val_score(estimator=classifier,X = X_train, y = y_train,cv=skf)\n",
    "\n",
    "# print(\"Accuracy : {:.2f} %\".format(accuracies.mean()*100))\n",
    "# print(\"Standard Deviation : {:.2f} %\".format(accuracies.std()*100))"
   ]
  },
  {
   "cell_type": "code",
   "execution_count": 38,
   "metadata": {},
   "outputs": [
    {
     "name": "stdout",
     "output_type": "stream",
     "text": [
      "Accuracy: 82.79 %\n",
      "Standard Deviation: 1.57 %\n"
     ]
    }
   ],
   "source": [
    "# from sklearn.ensemble import RandomForestClassifier, BaggingClassifier\n",
    "# from sklearn.model_selection import StratifiedKFold, cross_val_score\n",
    "# from sklearn.preprocessing import StandardScaler\n",
    "# from sklearn.utils import resample\n",
    "\n",
    "# # 데이터 스케일링\n",
    "# scaler = StandardScaler()\n",
    "# X_train_scaled = scaler.fit_transform(X_train)\n",
    "# X_test_scaled = scaler.transform(X_test)\n",
    "\n",
    "# # 클래스 불균형 해소를 위한 오버샘플링\n",
    "# X_train_resampled, y_train_resampled = resample(X_train_scaled, y_train, random_state=42, n_samples=len(y_train), stratify=y_train)\n",
    "\n",
    "# # RandomForest의 하이퍼파라미터 조정\n",
    "# rf_classifier = RandomForestClassifier(n_estimators=100, max_depth=10, random_state=42)\n",
    "\n",
    "# # BaggingClassifier 생성\n",
    "# classifier = BaggingClassifier(base_estimator=rf_classifier, n_estimators=15)\n",
    "\n",
    "# # 교차 검증\n",
    "# skf = StratifiedKFold(n_splits=10, shuffle=True)\n",
    "# accuracies = cross_val_score(estimator=classifier, X=X_train_resampled, y=y_train_resampled, cv=skf)\n",
    "\n",
    "# print(\"Accuracy: {:.2f} %\".format(accuracies.mean() * 100))\n",
    "# print(\"Standard Deviation: {:.2f} %\".format(accuracies.std() * 100))"
   ]
  },
  {
   "cell_type": "code",
   "execution_count": 25,
   "metadata": {},
   "outputs": [],
   "source": [
    "# from xgboost import XGBClassifier\n",
    "# from sklearn.ensemble import BaggingClassifier\n",
    "\n",
    "# clf1 = AdaBoostClassifier()\n",
    "# clf2 = RandomForestClassifier()\n",
    "# clf3 = SVC(kernel = 'linear')\n",
    "\n",
    "\n",
    "# classifiers = [DecisionTreeClassifier(),\n",
    "#                RandomForestClassifier(),\n",
    "#                GaussianNB(),\n",
    "#                KNeighborsClassifier(),\n",
    "#                SVC(kernel='linear'),\n",
    "#                SVC(kernel='rbf'),\n",
    "#                AdaBoostClassifier(),\n",
    "#                QuadraticDiscriminantAnalysis(),\n",
    "#                VotingClassifier(estimators=[('1',AdaBoostClassifier()),\n",
    "#                                             ('2',RandomForestClassifier()),\n",
    "#                                             ('3',SVC(kernel='linear'))]),\n",
    "#                BaggingClassifier(base_estimator=clf3,n_estimators=10,random_state=0),\n",
    "#                 XGBClassifier()]\n",
    "\n",
    "\n",
    "# classifier_name = ['D_tree',\n",
    "#                    'RF',\n",
    "#                    'GNB',\n",
    "#                    'KNN',\n",
    "#                    'Ada',\n",
    "#                    'QDA',\n",
    "#                    'SVM_l',\n",
    "#                    'SVM_k',\n",
    "#                    'Voting',\n",
    "#                    'Bagging',\n",
    "#                    'XGBC']\n",
    "\n",
    "# modelaccuracies = []\n",
    "# modelmeans = []\n",
    "# modelnames= []\n",
    "\n",
    "# classifier_data = zip(classifier_name,classifiers)\n",
    "# for classifier_name, classifier in classifier_data:\n",
    "#   skf = StratifiedKFold(n_splits=10,shuffle=True)\n",
    "#   accuracies = cross_val_score(classifier,X=X_train,y=y_train,cv = skf)\n",
    "#   print('Mean accuracy of',classifier_name,':{:.2f}'.format(accuracies.mean()*100))\n",
    "#   modelaccuracies.append(accuracies)\n",
    "#   modelnames.append(classifier_name)\n",
    "#   modelmeans.append(accuracies.mean()*100)\n",
    "\n",
    "# plt.figure(figsize=(10,5))\n",
    "# plt.ylim(60,80)\n",
    "# plt.bar(modelnames,modelmeans)\n",
    "\n",
    "# fig = plt.figure(figsize=(10,5))\n",
    "# ax = fig.add_subplot(111)\n",
    "# ax.boxplot(modelaccuracies)\n",
    "# ax.set_xticklabels(modelnames)\n",
    "# plt.show()"
   ]
  },
  {
   "cell_type": "code",
   "execution_count": 26,
   "metadata": {},
   "outputs": [],
   "source": [
    "# 모델 인자에 random_state를 넣음으로써 시드고정의 효과를 얻을 수 있습니다.\n",
    "from sklearn.ensemble import RandomForestClassifier\n",
    "from sklearn.naive_bayes import GaussianNB\n",
    "from sklearn.ensemble import AdaBoostClassifier\n",
    "\n",
    "\n",
    "model = BaggingClassifier(base_estimator=RandomForestClassifier())"
   ]
  },
  {
   "cell_type": "code",
   "execution_count": 39,
   "metadata": {},
   "outputs": [
    {
     "data": {
      "text/html": [
       "<style>#sk-container-id-3 {color: black;}#sk-container-id-3 pre{padding: 0;}#sk-container-id-3 div.sk-toggleable {background-color: white;}#sk-container-id-3 label.sk-toggleable__label {cursor: pointer;display: block;width: 100%;margin-bottom: 0;padding: 0.3em;box-sizing: border-box;text-align: center;}#sk-container-id-3 label.sk-toggleable__label-arrow:before {content: \"▸\";float: left;margin-right: 0.25em;color: #696969;}#sk-container-id-3 label.sk-toggleable__label-arrow:hover:before {color: black;}#sk-container-id-3 div.sk-estimator:hover label.sk-toggleable__label-arrow:before {color: black;}#sk-container-id-3 div.sk-toggleable__content {max-height: 0;max-width: 0;overflow: hidden;text-align: left;background-color: #f0f8ff;}#sk-container-id-3 div.sk-toggleable__content pre {margin: 0.2em;color: black;border-radius: 0.25em;background-color: #f0f8ff;}#sk-container-id-3 input.sk-toggleable__control:checked~div.sk-toggleable__content {max-height: 200px;max-width: 100%;overflow: auto;}#sk-container-id-3 input.sk-toggleable__control:checked~label.sk-toggleable__label-arrow:before {content: \"▾\";}#sk-container-id-3 div.sk-estimator input.sk-toggleable__control:checked~label.sk-toggleable__label {background-color: #d4ebff;}#sk-container-id-3 div.sk-label input.sk-toggleable__control:checked~label.sk-toggleable__label {background-color: #d4ebff;}#sk-container-id-3 input.sk-hidden--visually {border: 0;clip: rect(1px 1px 1px 1px);clip: rect(1px, 1px, 1px, 1px);height: 1px;margin: -1px;overflow: hidden;padding: 0;position: absolute;width: 1px;}#sk-container-id-3 div.sk-estimator {font-family: monospace;background-color: #f0f8ff;border: 1px dotted black;border-radius: 0.25em;box-sizing: border-box;margin-bottom: 0.5em;}#sk-container-id-3 div.sk-estimator:hover {background-color: #d4ebff;}#sk-container-id-3 div.sk-parallel-item::after {content: \"\";width: 100%;border-bottom: 1px solid gray;flex-grow: 1;}#sk-container-id-3 div.sk-label:hover label.sk-toggleable__label {background-color: #d4ebff;}#sk-container-id-3 div.sk-serial::before {content: \"\";position: absolute;border-left: 1px solid gray;box-sizing: border-box;top: 0;bottom: 0;left: 50%;z-index: 0;}#sk-container-id-3 div.sk-serial {display: flex;flex-direction: column;align-items: center;background-color: white;padding-right: 0.2em;padding-left: 0.2em;position: relative;}#sk-container-id-3 div.sk-item {position: relative;z-index: 1;}#sk-container-id-3 div.sk-parallel {display: flex;align-items: stretch;justify-content: center;background-color: white;position: relative;}#sk-container-id-3 div.sk-item::before, #sk-container-id-3 div.sk-parallel-item::before {content: \"\";position: absolute;border-left: 1px solid gray;box-sizing: border-box;top: 0;bottom: 0;left: 50%;z-index: -1;}#sk-container-id-3 div.sk-parallel-item {display: flex;flex-direction: column;z-index: 1;position: relative;background-color: white;}#sk-container-id-3 div.sk-parallel-item:first-child::after {align-self: flex-end;width: 50%;}#sk-container-id-3 div.sk-parallel-item:last-child::after {align-self: flex-start;width: 50%;}#sk-container-id-3 div.sk-parallel-item:only-child::after {width: 0;}#sk-container-id-3 div.sk-dashed-wrapped {border: 1px dashed gray;margin: 0 0.4em 0.5em 0.4em;box-sizing: border-box;padding-bottom: 0.4em;background-color: white;}#sk-container-id-3 div.sk-label label {font-family: monospace;font-weight: bold;display: inline-block;line-height: 1.2em;}#sk-container-id-3 div.sk-label-container {text-align: center;}#sk-container-id-3 div.sk-container {/* jupyter's `normalize.less` sets `[hidden] { display: none; }` but bootstrap.min.css set `[hidden] { display: none !important; }` so we also need the `!important` here to be able to override the default hidden behavior on the sphinx rendered scikit-learn.org. See: https://github.com/scikit-learn/scikit-learn/issues/21755 */display: inline-block !important;position: relative;}#sk-container-id-3 div.sk-text-repr-fallback {display: none;}</style><div id=\"sk-container-id-3\" class=\"sk-top-container\"><div class=\"sk-text-repr-fallback\"><pre>BaggingClassifier(base_estimator=RandomForestClassifier(max_depth=10,\n",
       "                                                        random_state=42),\n",
       "                  n_estimators=15)</pre><b>In a Jupyter environment, please rerun this cell to show the HTML representation or trust the notebook. <br />On GitHub, the HTML representation is unable to render, please try loading this page with nbviewer.org.</b></div><div class=\"sk-container\" hidden><div class=\"sk-item sk-dashed-wrapped\"><div class=\"sk-label-container\"><div class=\"sk-label sk-toggleable\"><input class=\"sk-toggleable__control sk-hidden--visually\" id=\"sk-estimator-id-7\" type=\"checkbox\" ><label for=\"sk-estimator-id-7\" class=\"sk-toggleable__label sk-toggleable__label-arrow\">BaggingClassifier</label><div class=\"sk-toggleable__content\"><pre>BaggingClassifier(base_estimator=RandomForestClassifier(max_depth=10,\n",
       "                                                        random_state=42),\n",
       "                  n_estimators=15)</pre></div></div></div><div class=\"sk-parallel\"><div class=\"sk-parallel-item\"><div class=\"sk-item\"><div class=\"sk-label-container\"><div class=\"sk-label sk-toggleable\"><input class=\"sk-toggleable__control sk-hidden--visually\" id=\"sk-estimator-id-8\" type=\"checkbox\" ><label for=\"sk-estimator-id-8\" class=\"sk-toggleable__label sk-toggleable__label-arrow\">base_estimator: RandomForestClassifier</label><div class=\"sk-toggleable__content\"><pre>RandomForestClassifier(max_depth=10, random_state=42)</pre></div></div></div><div class=\"sk-serial\"><div class=\"sk-item\"><div class=\"sk-estimator sk-toggleable\"><input class=\"sk-toggleable__control sk-hidden--visually\" id=\"sk-estimator-id-9\" type=\"checkbox\" ><label for=\"sk-estimator-id-9\" class=\"sk-toggleable__label sk-toggleable__label-arrow\">RandomForestClassifier</label><div class=\"sk-toggleable__content\"><pre>RandomForestClassifier(max_depth=10, random_state=42)</pre></div></div></div></div></div></div></div></div></div></div>"
      ],
      "text/plain": [
       "BaggingClassifier(base_estimator=RandomForestClassifier(max_depth=10,\n",
       "                                                        random_state=42),\n",
       "                  n_estimators=15)"
      ]
     },
     "execution_count": 39,
     "metadata": {},
     "output_type": "execute_result"
    }
   ],
   "source": [
    "classifier.fit(X_train, y_train)"
   ]
  },
  {
   "cell_type": "code",
   "execution_count": 40,
   "metadata": {},
   "outputs": [],
   "source": [
    "# predict() 함수는 독립변수(테스트데이터)를 입력받았을 때 종속변수를 예측합니다.\n",
    "pred = classifier.predict(X_test)"
   ]
  },
  {
   "cell_type": "code",
   "execution_count": 41,
   "metadata": {},
   "outputs": [],
   "source": [
    "# 제출 파일을 읽어옵니다.\n",
    "submit = pd.read_csv('sample_submission.csv')"
   ]
  },
  {
   "cell_type": "code",
   "execution_count": 42,
   "metadata": {},
   "outputs": [
    {
     "data": {
      "text/html": [
       "<div>\n",
       "<style scoped>\n",
       "    .dataframe tbody tr th:only-of-type {\n",
       "        vertical-align: middle;\n",
       "    }\n",
       "\n",
       "    .dataframe tbody tr th {\n",
       "        vertical-align: top;\n",
       "    }\n",
       "\n",
       "    .dataframe thead th {\n",
       "        text-align: right;\n",
       "    }\n",
       "</style>\n",
       "<table border=\"1\" class=\"dataframe\">\n",
       "  <thead>\n",
       "    <tr style=\"text-align: right;\">\n",
       "      <th></th>\n",
       "      <th>ID</th>\n",
       "      <th>label</th>\n",
       "    </tr>\n",
       "  </thead>\n",
       "  <tbody>\n",
       "    <tr>\n",
       "      <th>0</th>\n",
       "      <td>TEST_0000</td>\n",
       "      <td>0</td>\n",
       "    </tr>\n",
       "    <tr>\n",
       "      <th>1</th>\n",
       "      <td>TEST_0001</td>\n",
       "      <td>0</td>\n",
       "    </tr>\n",
       "    <tr>\n",
       "      <th>2</th>\n",
       "      <td>TEST_0002</td>\n",
       "      <td>0</td>\n",
       "    </tr>\n",
       "    <tr>\n",
       "      <th>3</th>\n",
       "      <td>TEST_0003</td>\n",
       "      <td>1</td>\n",
       "    </tr>\n",
       "    <tr>\n",
       "      <th>4</th>\n",
       "      <td>TEST_0004</td>\n",
       "      <td>0</td>\n",
       "    </tr>\n",
       "  </tbody>\n",
       "</table>\n",
       "</div>"
      ],
      "text/plain": [
       "          ID  label\n",
       "0  TEST_0000      0\n",
       "1  TEST_0001      0\n",
       "2  TEST_0002      0\n",
       "3  TEST_0003      1\n",
       "4  TEST_0004      0"
      ]
     },
     "execution_count": 42,
     "metadata": {},
     "output_type": "execute_result"
    }
   ],
   "source": [
    "# 예측한 값을 TARGET 컬럼에 할당합니다.\n",
    "submit['label'] = pred\n",
    "submit.head()"
   ]
  },
  {
   "cell_type": "code",
   "execution_count": 43,
   "metadata": {},
   "outputs": [],
   "source": [
    "# 예측한 결과를 파일로 저장합니다. index 인자의 값을 False로 설정하지 않으면 제출이 정상적으로 진행되지 않습니다.\n",
    "submit.to_csv('submission.csv', index = False)"
   ]
  }
 ],
 "metadata": {
  "kernelspec": {
   "display_name": "py3.8",
   "language": "python",
   "name": "python3"
  },
  "language_info": {
   "codemirror_mode": {
    "name": "ipython",
    "version": 3
   },
   "file_extension": ".py",
   "mimetype": "text/x-python",
   "name": "python",
   "nbconvert_exporter": "python",
   "pygments_lexer": "ipython3",
   "version": "3.8.17"
  },
  "orig_nbformat": 4
 },
 "nbformat": 4,
 "nbformat_minor": 2
}
